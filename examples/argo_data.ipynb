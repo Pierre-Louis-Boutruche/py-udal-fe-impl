{
 "cells": [
  {
   "cell_type": "code",
   "execution_count": 8,
   "metadata": {},
   "outputs": [],
   "source": [
    "from pathlib import Path\n",
    "from fairease_udal.udal.udal import UDAL, Config\n",
    "base_data_dir = './data/'\n",
    "config = Config()\n",
    "config.cache_dir = Path(base_data_dir).joinpath('cache')\n",
    "config.blue_cloud_token = ''\n",
    "config.beacon_token = ''"
   ]
  },
  {
   "cell_type": "code",
   "execution_count": 9,
   "metadata": {},
   "outputs": [],
   "source": [
    "udal_beacon = UDAL('https://beacon-argo.maris.nl', config)\n",
    "udal_iddas = UDAL('https://fair-ease-iddas.maris.nl', config)\n"
   ]
  },
  {
   "cell_type": "markdown",
   "metadata": {},
   "source": [
    "## Argo UDAL Query\n",
    "- Query Name: **urn:fairease.eu:argo:data**\n",
    "- Query parameters: \n",
    "    - parameter (str|List[str])\n",
    "    - startTime (str)\n",
    "    - startTime (str)\n",
    "    - bounding_box (dict)\n",
    "    - longitude (float)\n",
    "    - latitude (float)\n",
    "- Result Type: Xarray.dataset\n"
   ]
  },
  {
   "cell_type": "code",
   "execution_count": 13,
   "metadata": {},
   "outputs": [],
   "source": [
    "def example1(udal: UDAL):\n",
    "    print('\\n### Example 1 ###\\n')\n",
    "    queryname = 'urn:fairease.eu:argo:data'\n",
    "    queryparams = {\"parameter\": [\"temperature\", \"salinity\"], \"startTime\": \"2011-11-09\", \"endTime\": \"2011-11-20\"}\n",
    "    print(udal.execute(queryname, queryparams).data())\n",
    "\n",
    "def example2(udal: UDAL):\n",
    "    print('\\n### Example 2 ###\\n')\n",
    "    queryname = 'urn:fairease.eu:argo:data'\n",
    "    queryparams = {\"parameter\": [\"temperature\", \"salinity\"], \"startTime\": \"2011-11-09\", \"endTime\": \"2011-11-10\", \"longitude\": 55.236000061035, \"latitude\": -10.706999778748}\n",
    "    print(udal.execute(queryname, queryparams).data())\n",
    "\n",
    "def example3(udal: UDAL):\n",
    "    print('\\n### Example 3 ###\\n')\n",
    "    queryname = 'urn:fairease.eu:argo:data'\n",
    "    queryparams = {\"parameter\": [\"temperature\", \"salinity\"], \"startTime\": \"2021-01-01\", \"endTime\": \"2021-01-05\", \"bounding_box\": {\"north\": 90, \"east\": -90, \"south\": 80, \"west\": -80}}\n",
    "    print(udal.execute(queryname, queryparams).data())\n"
   ]
  },
  {
   "cell_type": "markdown",
   "metadata": {},
   "source": [
    "## Beacon"
   ]
  },
  {
   "cell_type": "code",
   "execution_count": null,
   "metadata": {},
   "outputs": [],
   "source": [
    "example1(udal_beacon)\n",
    "example2(udal_beacon)\n",
    "example3(udal_beacon)"
   ]
  },
  {
   "cell_type": "markdown",
   "metadata": {},
   "source": [
    "## IDDAS"
   ]
  },
  {
   "cell_type": "code",
   "execution_count": null,
   "metadata": {},
   "outputs": [],
   "source": [
    "example1(udal_iddas)\n",
    "example2(udal_iddas)\n",
    "example3(udal_iddas)"
   ]
  }
 ],
 "metadata": {
  "kernelspec": {
   "display_name": ".venv",
   "language": "python",
   "name": "python3"
  },
  "language_info": {
   "codemirror_mode": {
    "name": "ipython",
    "version": 3
   },
   "file_extension": ".py",
   "mimetype": "text/x-python",
   "name": "python",
   "nbconvert_exporter": "python",
   "pygments_lexer": "ipython3",
   "version": "3.10.0"
  }
 },
 "nbformat": 4,
 "nbformat_minor": 2
}
